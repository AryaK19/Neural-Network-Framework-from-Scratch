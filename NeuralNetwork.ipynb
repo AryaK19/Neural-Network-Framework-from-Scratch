{
 "cells": [
  {
   "cell_type": "code",
   "execution_count": 1,
   "metadata": {},
   "outputs": [],
   "source": [
    "import numpy as np\n",
    "from math import exp"
   ]
  },
  {
   "cell_type": "code",
   "execution_count": 2,
   "metadata": {},
   "outputs": [],
   "source": [
    "\n",
    "class NeuralNetwork:\n",
    "    def __init__(self, inputSize,outputSize,outputLayerActivation='sigmoid'):\n",
    "\n",
    "        self.weights = [np.random.randn(inputSize, outputSize) * np.sqrt(2. / inputSize)]\n",
    "        self.bias = [np.zeros((1, outputSize))]\n",
    "        self.layers = 0\n",
    "        self.activations = [outputLayerActivation]\n",
    "\n",
    "    def addLayer(self,size,activation='relu'):\n",
    "        self.layers +=1\n",
    "        self.weights.append(np.random.randn(size, self.weights[-1].shape[1]) * np.sqrt(2. / size))\n",
    "        self.weights[-2] = np.random.randn(self.weights[-2].shape[0], self.weights[-1].shape[0]) * np.sqrt(2. / self.weights[-1].shape[0])\n",
    "\n",
    "        self.bias.append(np.zeros((1,self.weights[-1].shape[1])))\n",
    "        self.bias[-2] = np.zeros((1,size))        \n",
    "        \n",
    "        self.activations.insert(-2,activation)\n",
    "\n",
    "    \n",
    "\n",
    "    def sigmoid(self, x):\n",
    "        return 1 / (1 + np.exp(-x))\n",
    "    \n",
    "    def sigmoid_derivative(self, x):\n",
    "        return x * (1 - x)\n",
    "    \n",
    "    def relu(self, x):\n",
    "        return np.maximum(0, x)\n",
    "    \n",
    "    def relu_derivative(self, x):\n",
    "        return np.where(x <= 0, 0, 1)\n",
    "    \n",
    "    def computeLoss(self, y_true, y_pred):\n",
    "        epsilon = 1e-10\n",
    "        y_pred = np.clip(y_pred, epsilon, 1. - epsilon)\n",
    "        m = y_true.shape[0]\n",
    "        loss = -1 / m * np.sum(y_true * np.log(y_pred) + (1 - y_true) * np.log(1 - y_pred))\n",
    "\n",
    "        return loss\n",
    "\n",
    "\n",
    "\n",
    "    def predict(self, X):\n",
    "        self.output = [X]\n",
    "       \n",
    "        for i in range(self.layers+1):\n",
    "            self.z = np.dot(self.output[-1],self.weights[i]) + self.bias[i]\n",
    "            self.output.append(eval(f\"self.{self.activations[i]}(self.z)\"))\n",
    "            \n",
    "        return self.output[-1]\n",
    "    \n",
    "    def backward(self, X, y, learningRate=0.01):\n",
    "        m = X.shape[0]\n",
    "\n",
    "        dz = [self.output[-1] - y]\n",
    "        dw = [(1 / m) * np.dot(self.output[-2].T, dz[0])]\n",
    "        db = [(1 / m) * np.sum(dz[0], axis=0, keepdims=True)]\n",
    "\n",
    "        for i in range(self.layers,0,-1):\n",
    "            dz = [np.dot(dz[0], self.weights[i].T) * eval(f\"self.{self.activations[i-1]}_derivative(self.output[i])\")] + dz\n",
    "            dw = [(1 / m) * np.dot(self.output[i-1].T, dz[0])] + dw\n",
    "            db = [(1 / m) * np.sum(dz[0], axis=0, keepdims=True)] + db\n",
    "            \n",
    "\n",
    "        for i in range(self.layers+1):\n",
    "            \n",
    "            self.weights[i] -= learningRate * dw[i]\n",
    "            self.bias[i] -= learningRate * db[i]\n",
    "            \n",
    "\n",
    "\n",
    "    def fit(self,X,y,epochs,learningRate=0.01,verbose=True,verboseInterval=100):\n",
    "        loss = []\n",
    "    \n",
    "        for epoch in range(epochs):\n",
    "           \n",
    "            if epoch%verboseInterval == 0 and verbose:\n",
    "                print(f\"\\nEpoch: {epoch}\\n|\",end='')\n",
    "                print(\"====================\",end='')\n",
    "\n",
    "            pred = self.predict(X)\n",
    "            loss.append(self.computeLoss(y,pred))\n",
    "            self.backward(X, y,learningRate)\n",
    "\n",
    "            if epoch%verboseInterval == 0 and verbose:\n",
    "                print(f\"|   Loss: {loss[-1]}\")\n",
    "            \n",
    "\n",
    "        if verbose:\n",
    "            print('')\n",
    "            \n",
    "        return loss\n",
    "          \n"
   ]
  },
  {
   "cell_type": "code",
   "execution_count": 3,
   "metadata": {},
   "outputs": [],
   "source": [
    "inputSize = 3\n",
    "hiddenSize1 = 4\n",
    "hiddenSize2 = 4\n",
    "outputSize = 2\n",
    "\n",
    "options = np.array([[0, 0 ,0], [0, 0, 1]])\n",
    "outputs = np.array([[1,0], [0,1]])\n",
    "\n",
    "# Generate random training data\n",
    "i = np.random.choice(2, size=1000)\n",
    "X = options[i]\n",
    "y = outputs[i]"
   ]
  },
  {
   "cell_type": "code",
   "execution_count": 4,
   "metadata": {},
   "outputs": [],
   "source": [
    "from NeuroFlow import Sequential\n",
    "\n",
    "model = Sequential(inputSize,outputSize,outputLayerActivation='softmax')\n",
    "\n",
    "\n",
    "\n"
   ]
  },
  {
   "cell_type": "code",
   "execution_count": 5,
   "metadata": {},
   "outputs": [
    {
     "name": "stdout",
     "output_type": "stream",
     "text": [
      "\n",
      "Epoch: 0\n",
      "|====================|   Loss: 2.2687760019353984\n",
      "\n",
      "Epoch: 50000\n",
      "|====================|   Loss: 0.010250072710037188\n",
      "\n",
      "Training Complete\n"
     ]
    }
   ],
   "source": [
    "loss = model.fit(X,y,100000,verboseInterval=50000)\n",
    "\n",
    "\n",
    "model.save(\"F.file\")\n"
   ]
  },
  {
   "cell_type": "code",
   "execution_count": 9,
   "metadata": {},
   "outputs": [
    {
     "name": "stdout",
     "output_type": "stream",
     "text": [
      "Predictions: [[9.93161293e-01 6.83870699e-03]\n",
      " [2.01344979e-03 9.97986550e-01]\n",
      " [8.97710406e-04 9.99102290e-01]]\n"
     ]
    }
   ],
   "source": [
    "from NeuroFlow import load_model\n",
    "\n",
    "\n",
    "mod = loadModel(\"F.file\")\n",
    "new_data = np.array([[0, 1 ,0], [0, 0, 1],[0,1,1]])\n",
    "predictions = mod.predict(new_data)\n",
    "print(\"Predictions:\", predictions)"
   ]
  },
  {
   "cell_type": "code",
   "execution_count": null,
   "metadata": {},
   "outputs": [],
   "source": []
  },
  {
   "cell_type": "code",
   "execution_count": null,
   "metadata": {},
   "outputs": [],
   "source": []
  }
 ],
 "metadata": {
  "kernelspec": {
   "display_name": "Python 3",
   "language": "python",
   "name": "python3"
  },
  "language_info": {
   "codemirror_mode": {
    "name": "ipython",
    "version": 3
   },
   "file_extension": ".py",
   "mimetype": "text/x-python",
   "name": "python",
   "nbconvert_exporter": "python",
   "pygments_lexer": "ipython3",
   "version": "3.10.0"
  }
 },
 "nbformat": 4,
 "nbformat_minor": 2
}
