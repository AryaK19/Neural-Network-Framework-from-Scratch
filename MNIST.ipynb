{
 "cells": [
  {
   "cell_type": "code",
   "execution_count": 25,
   "metadata": {},
   "outputs": [],
   "source": [
    "import NeuroFlow\n",
    "import numpy as np\n",
    "import pandas as pd\n",
    "import matplotlib.pyplot as plt"
   ]
  },
  {
   "cell_type": "code",
   "execution_count": 29,
   "metadata": {},
   "outputs": [],
   "source": [
    "data = pd.read_csv('train.csv')\n"
   ]
  },
  {
   "cell_type": "code",
   "execution_count": 30,
   "metadata": {},
   "outputs": [
    {
     "data": {
      "text/plain": [
       "array([[0., 1., 0., ..., 0., 0., 0.],\n",
       "       [1., 0., 0., ..., 0., 0., 0.],\n",
       "       [0., 1., 0., ..., 0., 0., 0.],\n",
       "       ...,\n",
       "       [0., 0., 0., ..., 1., 0., 0.],\n",
       "       [0., 0., 0., ..., 0., 0., 0.],\n",
       "       [0., 0., 0., ..., 0., 0., 1.]])"
      ]
     },
     "execution_count": 30,
     "metadata": {},
     "output_type": "execute_result"
    }
   ],
   "source": [
    "def oneHot(n):\n",
    "    array = np.zeros((10))\n",
    "    array[n] = 1\n",
    "    return array\n",
    "\n",
    "def notOneHot(l):\n",
    "    return np.argmax(l,axis=0)\n",
    "\n",
    "y = []\n",
    "for i in data['label']:\n",
    "    y.append(oneHot(i))\n",
    "\n",
    "datay = np.array(y)\n",
    "datay"
   ]
  },
  {
   "cell_type": "code",
   "execution_count": 31,
   "metadata": {},
   "outputs": [
    {
     "data": {
      "text/plain": [
       "(42000, 784)"
      ]
     },
     "execution_count": 31,
     "metadata": {},
     "output_type": "execute_result"
    }
   ],
   "source": [
    "data.pop('label')\n",
    "datax = np.array(data)\n",
    "datax.shape\n"
   ]
  },
  {
   "cell_type": "code",
   "execution_count": 32,
   "metadata": {},
   "outputs": [],
   "source": [
    "datax = datax/255.0\n"
   ]
  },
  {
   "cell_type": "code",
   "execution_count": 35,
   "metadata": {},
   "outputs": [
    {
     "data": {
      "text/plain": [
       "array([[0., 0., 0., ..., 0., 0., 0.],\n",
       "       [0., 0., 0., ..., 0., 0., 0.],\n",
       "       [0., 0., 0., ..., 0., 0., 0.],\n",
       "       ...,\n",
       "       [0., 0., 0., ..., 0., 0., 0.],\n",
       "       [0., 0., 0., ..., 0., 0., 0.],\n",
       "       [0., 0., 0., ..., 0., 0., 0.]])"
      ]
     },
     "execution_count": 35,
     "metadata": {},
     "output_type": "execute_result"
    }
   ],
   "source": [
    "trainLen = int(len(datax)*0.8)\n",
    "trainx = datax[:trainLen]\n",
    "trainy = datay[:trainLen]\n",
    "testx = datax[trainLen:]\n",
    "testy = datay[trainLen:]\n",
    "testx"
   ]
  },
  {
   "cell_type": "code",
   "execution_count": 9,
   "metadata": {},
   "outputs": [],
   "source": [
    "model = NeuroFlow.Sequential(784,10,outputLayerActivation='softmax')\n",
    "\n",
    "model.addLayer(256)\n",
    "\n",
    "model.addLayer(16)\n"
   ]
  },
  {
   "cell_type": "code",
   "execution_count": 10,
   "metadata": {},
   "outputs": [
    {
     "name": "stdout",
     "output_type": "stream",
     "text": [
      "\n",
      "Epoch: 0\n",
      "|====================|   Loss: 5.354882789336864\n",
      "\n",
      "Epoch: 50\n",
      "|====================|   Loss: 1.8270644036910297\n",
      "\n",
      "Epoch: 100\n",
      "|====================|   Loss: 1.257696662947758\n",
      "\n",
      "Epoch: 150\n",
      "|====================|   Loss: 1.0132228998727932\n",
      "\n",
      "Epoch: 200\n",
      "|====================|   Loss: 0.8735547099786655\n",
      "\n",
      "Epoch: 250\n",
      "|====================|   Loss: 0.7807537561230247\n",
      "\n",
      "Epoch: 300\n",
      "|====================|   Loss: 0.7148619898945854\n",
      "\n",
      "Epoch: 350\n",
      "|====================|   Loss: 0.6657157015958874\n",
      "\n",
      "Epoch: 400\n",
      "|====================|   Loss: 0.6273176790704025\n",
      "\n",
      "Epoch: 450\n",
      "|====================|   Loss: 0.596011993393\n",
      "\n",
      "Epoch: 500\n",
      "|====================|   Loss: 0.5697803708087847\n",
      "\n",
      "Epoch: 550\n",
      "|====================|   Loss: 0.5474442983802766\n",
      "\n",
      "Epoch: 600\n",
      "|====================|   Loss: 0.5279340054107815\n",
      "\n",
      "Epoch: 650\n",
      "|====================|   Loss: 0.5106425309425493\n",
      "\n",
      "Epoch: 700\n",
      "|====================|   Loss: 0.49501630736211666\n",
      "\n",
      "Epoch: 750\n",
      "|====================|   Loss: 0.48085177870896106\n",
      "\n",
      "Epoch: 800\n",
      "|====================|   Loss: 0.4678696057729619\n",
      "\n",
      "Epoch: 850\n",
      "|====================|   Loss: 0.4558574760839115\n",
      "\n",
      "Epoch: 900\n",
      "|====================|   Loss: 0.4446880792476664\n",
      "\n",
      "Epoch: 950\n",
      "|====================|   Loss: 0.43427038008432894\n",
      "\n",
      "Epoch: 1000\n",
      "|====================|   Loss: 0.424492800138326\n",
      "\n",
      "Epoch: 1050\n",
      "|====================|   Loss: 0.41527079117773563\n",
      "\n",
      "Epoch: 1100\n",
      "|====================|   Loss: 0.40651812379610136\n",
      "\n",
      "Epoch: 1150\n",
      "|====================|   Loss: 0.3982143551064926\n",
      "\n",
      "Epoch: 1200\n",
      "|====================|   Loss: 0.39036295997710413\n",
      "\n",
      "Epoch: 1250\n",
      "|====================|   Loss: 0.38287288950038983\n",
      "\n",
      "Epoch: 1300\n",
      "|====================|   Loss: 0.37568772303159137\n",
      "\n",
      "Epoch: 1350\n",
      "|====================|   Loss: 0.3688174865460628\n",
      "\n",
      "Epoch: 1400\n",
      "|====================|   Loss: 0.36227700978286986\n",
      "\n",
      "Epoch: 1450\n",
      "|====================|   Loss: 0.35601529342869453\n",
      "\n",
      "Epoch: 1500\n",
      "|====================|   Loss: 0.35002513982450806\n",
      "\n",
      "Epoch: 1550\n",
      "|====================|   Loss: 0.3442848596828211\n",
      "\n",
      "Epoch: 1600\n",
      "|====================|   Loss: 0.33878593929193257\n",
      "\n",
      "Epoch: 1650\n",
      "|====================|   Loss: 0.33347322629722365\n",
      "\n",
      "Epoch: 1700\n",
      "|====================|   Loss: 0.3283573690626837\n",
      "\n",
      "Epoch: 1750\n",
      "|====================|   Loss: 0.3234164307260149\n",
      "\n",
      "Epoch: 1800\n",
      "|====================|   Loss: 0.3186411184652521\n",
      "\n",
      "Epoch: 1850\n",
      "|====================|   Loss: 0.31400382978269153\n",
      "\n",
      "Epoch: 1900\n",
      "|====================|   Loss: 0.309502482255245\n",
      "\n",
      "Epoch: 1950\n",
      "|====================|   Loss: 0.3051527378762102\n",
      "\n",
      "Training Complete\n"
     ]
    }
   ],
   "source": [
    "history = model.fit(trainx,trainy,epochs=2000,learningRate=0.02,verboseInterval=50)"
   ]
  },
  {
   "cell_type": "code",
   "execution_count": 11,
   "metadata": {},
   "outputs": [
    {
     "data": {
      "image/png": "[encoded data removed]",
      "text/plain": [
       "<Figure size 640x480 with 1 Axes>"
      ]
     },
     "metadata": {},
     "output_type": "display_data"
    }
   ],
   "source": [
    "plt.plot(history)\n",
    "plt.title('Loss')\n",
    "plt.show()"
   ]
  },
  {
   "cell_type": "code",
   "execution_count": 12,
   "metadata": {},
   "outputs": [],
   "source": [
    "model.save('models/mnist1.file')"
   ]
  },
  {
   "cell_type": "code",
   "execution_count": 15,
   "metadata": {},
   "outputs": [
    {
     "name": "stdout",
     "output_type": "stream",
     "text": [
      "[[6.55450276e-06 2.06165537e-05 3.58611349e-02 9.63710257e-01\n",
      "  3.30645002e-08 5.18327847e-05 2.14050309e-04 3.77023316e-11\n",
      "  1.35518754e-04 2.38895372e-09]]\n"
     ]
    },
    {
     "data": {
      "image/png": "[encoded data removed]",
      "text/plain": [
       "<Figure size 640x480 with 1 Axes>"
      ]
     },
     "metadata": {},
     "output_type": "display_data"
    }
   ],
   "source": [
    "\n",
    "n = 10\n",
    "\n",
    "plt.imshow(testx[n].reshape(28,28))\n",
    "predict = model.predict(testx[n].reshape(1,784))\n",
    "print(predict)\n"
   ]
  },
  {
   "cell_type": "code",
   "execution_count": 38,
   "metadata": {},
   "outputs": [
    {
     "data": {
      "text/plain": [
       "array([[9.92807690e-01, 2.00295298e-08, 9.28735602e-07, 6.84391029e-07,\n",
       "        5.43036970e-09, 5.25556607e-05, 7.11501615e-03, 5.72235403e-07,\n",
       "        1.03410594e-05, 1.21860161e-05]])"
      ]
     },
     "execution_count": 38,
     "metadata": {},
     "output_type": "execute_result"
    }
   ],
   "source": [
    "model.predict(testx[0].reshape(1,784))"
   ]
  },
  {
   "cell_type": "code",
   "execution_count": 40,
   "metadata": {},
   "outputs": [
    {
     "name": "stdout",
     "output_type": "stream",
     "text": [
      "Accuracy: 0.9352380952380952\n"
     ]
    }
   ],
   "source": [
    "correct = 0\n",
    "\n",
    "for i in range(len(testx)):\n",
    "    pred = model.predict(testx[i].reshape(1,784))\n",
    "    p = notOneHot(pred[0])\n",
    "    a = notOneHot(testy[i])\n",
    "\n",
    "\n",
    "    if p == a:\n",
    "        correct+=1\n",
    "\n",
    "print(\"Accuracy:\",correct/len(testx))\n",
    "\n"
   ]
  }
 ],
 "metadata": {
  "kernelspec": {
   "display_name": "Python 3",
   "language": "python",
   "name": "python3"
  },
  "language_info": {
   "codemirror_mode": {
    "name": "ipython",
    "version": 3
   },
   "file_extension": ".py",
   "mimetype": "text/x-python",
   "name": "python",
   "nbconvert_exporter": "python",
   "pygments_lexer": "ipython3",
   "version": "3.10.0"
  }
 },
 "nbformat": 4,
 "nbformat_minor": 2
}
