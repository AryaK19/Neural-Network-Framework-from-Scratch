{
 "cells": [
  {
   "cell_type": "code",
   "execution_count": 2,
   "metadata": {},
   "outputs": [],
   "source": [
    "import numpy as np\n"
   ]
  },
  {
   "cell_type": "code",
   "execution_count": null,
   "metadata": {},
   "outputs": [],
   "source": [
    "class NeuralNetwork:\n",
    "    def __init__(self, inputSize, hiddenSize, outputSize):\n",
    "        self.weights1 = np.random.randn(inputSize, hiddenSize) * np.sqrt(2. / inputSize)\n",
    "        self.bias1 = np.zeros((1, hiddenSize))\n",
    "        self.weights2 = np.random.randn(hiddenSize, outputSize) * np.sqrt(2. / hiddenSize)\n",
    "        self.bias2 = np.zeros((1, outputSize))\n",
    "\n",
    "    def sigmoid(self, x):\n",
    "        return 1 / (1 + np.exp(-x))\n",
    "    \n",
    "    def sigmoid_derivative(self, x):\n",
    "        return x * (1 - x)\n",
    "    \n",
    "    def relu(self, x):\n",
    "        return np.maximum(0, x)\n",
    "    \n",
    "    def relu_derivative(self, x):\n",
    "        return np.where(x <= 0, 0, 1)\n",
    "    \n",
    "    def forward(self, X):\n",
    "        self.z1 = np.dot(X, self.weights1) + self.bias1\n",
    "        self.a1 = self.relu(self.z1)\n",
    "        self.z2 = np.dot(self.a1, self.weights2) + self.bias2\n",
    "        self.a2 = self.sigmoid(self.z2)\n",
    "        return self.a2\n",
    "    \n",
    "    def backward(self, X, y, learningRate=0.01):\n",
    "        m = X.shape[0]\n",
    "        dz2 = self.a2 - y\n",
    "        dw2 = (1 / m) * np.dot(self.a1.T, dz2)\n",
    "        db2 = (1 / m) * np.sum(dz2, axis=0, keepdims=True)\n",
    "        dz1 = np.dot(dz2, self.weights2.T) * self.relu_derivative(self.a1)\n",
    "        dw1 = (1 / m) * np.dot(X.T, dz1)\n",
    "        db1 = (1 / m) * np.sum(dz1, axis=0, keepdims=True)\n",
    "\n",
    "        self.weights2 -= learningRate * dw2\n",
    "        self.bias2 -= learningRate * db2\n",
    "        self.weights1 -= learningRate * dw1\n",
    "        self.bias1 -= learningRate * db1\n",
    "\n",
    "    def compute_loss(self, y_true, y_pred):\n",
    "        m = y_true.shape[0]\n",
    "        loss = -1/m * np.sum(y_true * np.log(y_pred) + (1 - y_true) * np.log(1 - y_pred))\n",
    "        return loss"
   ]
  }
 ],
 "metadata": {
  "kernelspec": {
   "display_name": "Python 3",
   "language": "python",
   "name": "python3"
  },
  "language_info": {
   "codemirror_mode": {
    "name": "ipython",
    "version": 3
   },
   "file_extension": ".py",
   "mimetype": "text/x-python",
   "name": "python",
   "nbconvert_exporter": "python",
   "pygments_lexer": "ipython3",
   "version": "3.10.0"
  }
 },
 "nbformat": 4,
 "nbformat_minor": 2
}
